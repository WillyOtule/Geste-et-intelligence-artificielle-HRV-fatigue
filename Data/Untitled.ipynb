{
 "cells": [
  {
   "cell_type": "code",
   "execution_count": 1,
   "metadata": {},
   "outputs": [],
   "source": [
    "path = 'https://physionet.org/physiobank/database/wrist/'\n",
    "\n",
    "l = ['s1_high_resistance_bike.atr', 's1_high_resistance_bike.dat',\n",
    "     's1_high_resistance_bike.hea', 's1_low_resistance_bike.atr',\n",
    "     's1_low_resistance_bike.dat', 's1_low_resistance_bike.hea',\n",
    "     's1_walk.atr', 's1_walk.dat', 's1_walk.hea', 's2_high_resistance_bike.atr',\n",
    "     's2_high_resistance_bike.dat', 's2_high_resistance_bike.hea', \n",
    "     's2_low_resistance_bike.atr', 's2_low_resistance_bike.dat', \n",
    "     's2_low_resistance_bike.hea', 's2_walk.atr', 's2_walk.dat', 's2_walk.hea',\n",
    "     's3_high_resistance_bike.atr', 's3_high_resistance_bike.dat',\n",
    "     's3_high_resistance_bike.hea', 's3_low_resistance_bike.atr', \n",
    "     's3_low_resistance_bike.dat', 's3_low_resistance_bike.hea', \n",
    "     's3_run.atr', 's3_run.dat', 's3_run.hea', 's3_walk.atr', 's3_walk.dat',\n",
    "     's3_walk.hea', 's4_run.atr', 's4_run.dat', 's4_run.hea', \n",
    "     's5_low_resistance_bike.atr', 's5_low_resistance_bike.dat',\n",
    "     's5_low_resistance_bike.hea', 's5_run.atr', 's5_run.dat',\n",
    "     's5_run.hea', 's6_low_resistance_bike.atr', 's6_low_resistance_bike.dat',\n",
    "     's6_low_resistance_bike.hea', 's6_run.atr', 's6_run.dat', 's6_run.hea', \n",
    "     's6_walk.atr', 's6_walk.dat', 's6_walk.hea', 's8_run.atr', 's8_run.dat', \n",
    "     's8_run.hea', 's8_walk.atr', 's8_walk.dat', 's8_walk.hea', 's9_walk.atr', \n",
    "     's9_walk.dat', 's9_walk.hea']"
   ]
  },
  {
   "cell_type": "markdown",
   "metadata": {},
   "source": [
    "If you have to install wget uncomment the following line and run it:"
   ]
  },
  {
   "cell_type": "code",
   "execution_count": 6,
   "metadata": {},
   "outputs": [],
   "source": [
    "#!pip install wget"
   ]
  },
  {
   "cell_type": "code",
   "execution_count": 10,
   "metadata": {},
   "outputs": [
    {
     "name": "stdout",
     "output_type": "stream",
     "text": [
      "Beginning file download with wget module\n"
     ]
    }
   ],
   "source": [
    "import wget\n",
    "\n",
    "print('Beginning file download with wget module')\n",
    "\n",
    "for i in range(len(l)):\n",
    "    url = path + l[i] \n",
    "    wget.download(url, '/Users/louis/Documents/GitHub/Geste-et-intelligence-artificielle-HRV-fatigue/Data/' + l[i])  "
   ]
  }
 ],
 "metadata": {
  "kernelspec": {
   "display_name": "Python 3",
   "language": "python",
   "name": "python3"
  },
  "language_info": {
   "codemirror_mode": {
    "name": "ipython",
    "version": 3
   },
   "file_extension": ".py",
   "mimetype": "text/x-python",
   "name": "python",
   "nbconvert_exporter": "python",
   "pygments_lexer": "ipython3",
   "version": "3.7.1"
  }
 },
 "nbformat": 4,
 "nbformat_minor": 2
}
